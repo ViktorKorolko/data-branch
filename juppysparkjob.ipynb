{
 "cells": [
  {
   "cell_type": "code",
   "execution_count": 5,
   "metadata": {},
   "outputs": [],
   "source": [
    "import io\n",
    "from pyspark.sql import SparkSession\n",
    "from pyspark.sql.functions import col\n",
    "from pyspark.sql import functions as F, Window"
   ]
  },
  {
   "cell_type": "code",
   "execution_count": 6,
   "metadata": {},
   "outputs": [],
   "source": [
    "spark = SparkSession.builder.appName('PySpark').getOrCreate()"
   ]
  },
  {
   "cell_type": "code",
   "execution_count": 8,
   "metadata": {},
   "outputs": [],
   "source": [
    "df = spark.read.parquet('dataset.parquet')\n",
    "# use window function to agregate by ad_id\n",
    "windowSpec = Window.partitionBy('ad_id')\n",
    "df = df.withColumn('day_count', F.approx_count_distinct('date').over(windowSpec))\n",
    "# make new columns is_cpm and is_cpc\n",
    "df = df.withColumn('is_cpm', (F.col('ad_cost_type') == 'CPM').cast('integer'))\n",
    "df = df.withColumn('is_cpc', (F.col('ad_cost_type') == 'CPC').cast('integer'))\n",
    "# calculate CTR\n",
    "df = df.withColumn('is_click', (F.col('event') == 'click').cast('integer'))\n",
    "df = df.withColumn('is_view', (F.col('event') == 'view').cast('integer'))\n",
    "df = df.withColumn('CTR', F.when(F.sum('is_view').over(windowSpec) == 0, 0).otherwise(\n",
    "        F.sum('is_click').over(windowSpec) / F.sum('is_view').over(windowSpec)))\n",
    "# split and write dataframe\n",
    "train, test = df.randomSplit([0.75, 0.25])\n",
    "train.coalesce(1).write.parquet('train')\n",
    "test.coalesce(1).write.parquet('test')"
   ]
  },
  {
   "cell_type": "code",
   "execution_count": null,
   "metadata": {},
   "outputs": [],
   "source": []
  }
 ],
 "metadata": {
  "kernelspec": {
   "display_name": "Python 3",
   "language": "python",
   "name": "python3"
  },
  "language_info": {
   "codemirror_mode": {
    "name": "ipython",
    "version": 3
   },
   "file_extension": ".py",
   "mimetype": "text/x-python",
   "name": "python",
   "nbconvert_exporter": "python",
   "pygments_lexer": "ipython3",
   "version": "3.7.6"
  }
 },
 "nbformat": 4,
 "nbformat_minor": 4
}
